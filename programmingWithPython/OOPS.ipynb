{
 "cells": [
  {
   "cell_type": "markdown",
   "id": "d37efb5a",
   "metadata": {},
   "source": [
    "# A self created project to understand OOPS in Python"
   ]
  }
 ],
 "metadata": {
  "language_info": {
   "name": "python"
  }
 },
 "nbformat": 4,
 "nbformat_minor": 5
}
