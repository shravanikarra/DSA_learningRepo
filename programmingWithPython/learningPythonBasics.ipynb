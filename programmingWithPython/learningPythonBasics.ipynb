{
 "cells": [
  {
   "cell_type": "code",
   "execution_count": 1,
   "id": "50dcbecf",
   "metadata": {},
   "outputs": [
    {
     "name": "stdout",
     "output_type": "stream",
     "text": [
      "3.12.0 (v3.12.0:0fb18b02c8, Oct  2 2023, 09:45:56) [Clang 13.0.0 (clang-1300.0.29.30)]\n"
     ]
    }
   ],
   "source": [
    "import sys\n",
    "print(sys.version)\n"
   ]
  },
  {
   "cell_type": "code",
   "execution_count": 2,
   "id": "7f7ec411",
   "metadata": {},
   "outputs": [
    {
     "name": "stdout",
     "output_type": "stream",
     "text": [
      "<class 'int'>\n"
     ]
    },
    {
     "data": {
      "text/plain": [
       "str"
      ]
     },
     "execution_count": 2,
     "metadata": {},
     "output_type": "execute_result"
    }
   ],
   "source": [
    "x = 5 \n",
    "y = 'John'\n",
    "print(type(x))\n",
    "type(y)\n"
   ]
  },
  {
   "cell_type": "markdown",
   "id": "54146cd8",
   "metadata": {},
   "source": [
    "camelCase\n",
    "PascalCase\n",
    "snake_case\n",
    "\n",
    "\n",
    "- all the ways to make variable \n",
    "- Variable names can start with alphabits(small or big), and _\n",
    "- the rest of the name can contain 0-9 or _\n"
   ]
  },
  {
   "cell_type": "code",
   "execution_count": 7,
   "id": "ad1167d6",
   "metadata": {},
   "outputs": [
    {
     "data": {
      "text/plain": [
       "(1, 2, 3)"
      ]
     },
     "execution_count": 7,
     "metadata": {},
     "output_type": "execute_result"
    }
   ],
   "source": [
    "x,y,z = 1,2,3\n",
    "x,y,z"
   ]
  },
  {
   "cell_type": "code",
   "execution_count": 11,
   "id": "20771ba4",
   "metadata": {},
   "outputs": [
    {
     "name": "stdout",
     "output_type": "stream",
     "text": [
      "5 john\n",
      "5john\n"
     ]
    }
   ],
   "source": [
    "x = 5 \n",
    "y = 'john'\n",
    "print(x,y)\n",
    "print(str(x)+y)\n",
    "#space is added when you use ,\n",
    "#+ doesnt add space"
   ]
  },
  {
   "cell_type": "markdown",
   "id": "fdcf6d4f",
   "metadata": {},
   "source": [
    "### Global Variables\n",
    "- Variables that are created outside the function (like all the variables above) are global variables. \n",
    "- Global variables can be used by anyone, anywhere in the notebook. Both inside and outside the function. \n",
    "- Its like using a table anywhere in the cluster in SQL. As long as you are not modifying it. As long as you have all the necessary permisions, you can use these variable anywhere. \n"
   ]
  },
  {
   "cell_type": "code",
   "execution_count": null,
   "id": "f70e6e71",
   "metadata": {},
   "outputs": [
    {
     "name": "stdout",
     "output_type": "stream",
     "text": [
      "I like Python\n"
     ]
    }
   ],
   "source": [
    "x = 'like'\n",
    "def myfunc():\n",
    "    print('I',x,'Python')\n",
    "myfunc() \n",
    "\n",
    "# In this case I didnt have to pass x as an argument while defining a function. Because x is a global variable, i can use it anywhere"
   ]
  },
  {
   "cell_type": "markdown",
   "id": "8aeac060",
   "metadata": {},
   "source": [
    "### Local Variable\n",
    "- If you define a variable within a function, thats local variable. That can only be called within the function, while the global variable can be called outside too"
   ]
  },
  {
   "cell_type": "code",
   "execution_count": 15,
   "id": "f4e03035",
   "metadata": {},
   "outputs": [
    {
     "name": "stdout",
     "output_type": "stream",
     "text": [
      "I love Python\n",
      "I like Python\n"
     ]
    }
   ],
   "source": [
    "def myfunc():\n",
    "    x = 'love'\n",
    "    print('I',x,'Python') # here x is local\n",
    "myfunc()\n",
    "\n",
    "print('I',x,'Python') # here x is global\n"
   ]
  }
 ],
 "metadata": {
  "kernelspec": {
   "display_name": "Python 3",
   "language": "python",
   "name": "python3"
  },
  "language_info": {
   "codemirror_mode": {
    "name": "ipython",
    "version": 3
   },
   "file_extension": ".py",
   "mimetype": "text/x-python",
   "name": "python",
   "nbconvert_exporter": "python",
   "pygments_lexer": "ipython3",
   "version": "3.12.0"
  }
 },
 "nbformat": 4,
 "nbformat_minor": 5
}
