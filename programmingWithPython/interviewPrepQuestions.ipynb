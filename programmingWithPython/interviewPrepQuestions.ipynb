{
 "cells": [
  {
   "cell_type": "markdown",
   "id": "f8a58444",
   "metadata": {},
   "source": [
    "#### Question Problem 1:\n",
    "\n",
    "You are given a list of stock prices for a week:\n",
    "Write a Python function to return the maximum profit you can achieve by buying and selling only once.\n",
    "\t•\tYou must buy before you sell.\n",
    "\t•\tReturn the max profit possible (can be 0 if no profit is possible).\n"
   ]
  },
  {
   "cell_type": "code",
   "execution_count": 62,
   "id": "53113ad3",
   "metadata": {},
   "outputs": [],
   "source": [
    "prices = [100, 180, 260, 310, 40, 535, 695]"
   ]
  },
  {
   "cell_type": "code",
   "execution_count": 63,
   "id": "f2dacff8",
   "metadata": {},
   "outputs": [],
   "source": [
    "# Return Max Profit Possible\n",
    "# Pseudocode: \n",
    "# 1. If the list is empty return 0\n",
    "# 2. Set the minimum price to the first days price \n",
    "# 3. Set Max Profit to 0 \n",
    "# 4. Loop through each days price starting from day 2:\n",
    "    # if current price - min price > max_profit then update max profit\n",
    "    # if current price < min_price then update min price\n",
    "# 5. Return Max Profit\n"
   ]
  },
  {
   "cell_type": "code",
   "execution_count": 64,
   "id": "ab159153",
   "metadata": {},
   "outputs": [
    {
     "name": "stdout",
     "output_type": "stream",
     "text": [
      "655\n"
     ]
    }
   ],
   "source": [
    "def max_profit(prices):\n",
    "    if not prices:\n",
    "        return 0 \n",
    "    min_price = prices[0]\n",
    "    max_profit = 0\n",
    "    for i in prices[1:]:\n",
    "        if (i - min_price) > max_profit:\n",
    "            max_profit = i-min_price\n",
    "        elif i < min_price:\n",
    "            min_price = i\n",
    "    return print(max_profit)\n",
    "\n",
    "max_profit(prices)"
   ]
  },
  {
   "cell_type": "markdown",
   "id": "cd52b628",
   "metadata": {},
   "source": [
    "#### Question 2: \n",
    "You’re given a list of words. Return a list of all anagram groups (words that are anagrams of each other), grouped together.\n",
    "\n",
    "Input: [\"bat\", \"tab\", \"tap\", \"pat\", \"cat\", \"act\"]\n",
    "\n",
    "Output: [['bat', 'tab'], ['tap', 'pat'], ['cat', 'act']]"
   ]
  },
  {
   "cell_type": "code",
   "execution_count": 65,
   "id": "a81eb160",
   "metadata": {},
   "outputs": [],
   "source": [
    "# Return a list of all anagram groups\n",
    "# Pseudocode: \n",
    "# \t1.\tLoop through each word\n",
    "#   2.\tSort the word to get the key\n",
    "#   3.\tIf this key was never seen before, defaultdict creates it automatically\n",
    "#   4.\tYou append the original word to this group"
   ]
  },
  {
   "cell_type": "code",
   "execution_count": 66,
   "id": "e8658d9c",
   "metadata": {},
   "outputs": [
    {
     "name": "stdout",
     "output_type": "stream",
     "text": [
      "[['bat', 'tab'], ['tap', 'pat'], ['cat', 'act']]\n"
     ]
    }
   ],
   "source": [
    "from collections import defaultdict\n",
    "def anagram(words):\n",
    "    if not words: \n",
    "        return []\n",
    "    groups = defaultdict(list) # Crete a Dictionary that auto-creates empty lists for new keys\n",
    "\n",
    "    for word in words: \n",
    "        key = ''.join(sorted(word)) # we are looping through each word, sorting it, and adding it as a key\n",
    "        groups[key].append(word) # Now append word to the sorted word as value. The sorting or 2 annagram words would be the same\n",
    "    return list(groups.values())\n",
    "print(anagram([\"bat\", \"tab\", \"tap\", \"pat\", \"cat\", \"act\"]))"
   ]
  },
  {
   "cell_type": "markdown",
   "id": "403ff9f7",
   "metadata": {},
   "source": [
    "#### Question 3\n",
    "Write a function that takes a string and returns the first non-repeating character in it.\n",
    "If there is no such character, return None."
   ]
  },
  {
   "cell_type": "code",
   "execution_count": 67,
   "id": "7186b598",
   "metadata": {},
   "outputs": [],
   "source": [
    "#Return the first non repeating character\n",
    "# Pseudocode: \n",
    "# Define a function with one argument which would be the input string (word)\n",
    "# if word is null return None\n",
    "# define a dict which autocreates int for new keys (repeat)\n",
    "# for letter in word \n",
    "    # key = letter\n",
    "    # repeat[key] += 1\n",
    "# return the key when value is 1"
   ]
  },
  {
   "cell_type": "code",
   "execution_count": 68,
   "id": "ee9d61c1",
   "metadata": {},
   "outputs": [
    {
     "name": "stdout",
     "output_type": "stream",
     "text": [
      "c\n"
     ]
    }
   ],
   "source": [
    "from collections import defaultdict\n",
    "def first_rep_char(word):\n",
    "    if not word: \n",
    "        return None\n",
    "    repeat = defaultdict(int)\n",
    "    for char in word: # Here the iteration variable is the key, assignment is for the value in the dict\n",
    "        repeat[char] +=1\n",
    "    \n",
    "    for i in word: \n",
    "        if repeat[i] == 1:\n",
    "            return i\n",
    "        \n",
    "\n",
    "\n",
    "print(first_rep_char(\"aabbcddex\"))\n"
   ]
  },
  {
   "cell_type": "markdown",
   "id": "a947d8c1",
   "metadata": {},
   "source": [
    "#### Question 4\n",
    "Write a function that takes a string and compresses it using the counts of repeated characters.\n",
    "If the compressed string is not shorter than the original, return the original string.\n",
    "Example: \n",
    "\n",
    "Input: \"aabcccccaaa\"\n",
    "Output: \"a2b1c5a3\"\n",
    "\n",
    "Input: \"abc\"\n",
    "Output: \"abc\"  # Compressed version is not shorter"
   ]
  },
  {
   "cell_type": "code",
   "execution_count": 69,
   "id": "1d198df9",
   "metadata": {},
   "outputs": [
    {
     "data": {
      "text/plain": [
       "'\\n1. Define function with input string\\n2. If string is empty, return None\\n\\n3. Initialize:\\n    - result = empty list\\n    - count = 1\\n\\n4. Loop from i = 1 to end of string:\\n    - If current char == previous char:\\n        - count += 1\\n    - Else:\\n        - Add previous char and count to result\\n        - Reset count = 1\\n\\n5. After loop ends:\\n    - Add last char and count to result\\n\\n6. Join result list into string\\n\\n7. If compressed string is shorter than original:\\n    - return compressed\\n   Else:\\n    - return original\\n'"
      ]
     },
     "execution_count": 69,
     "metadata": {},
     "output_type": "execute_result"
    }
   ],
   "source": [
    "'''\n",
    "1. Define function with input string\n",
    "2. If string is empty, return None\n",
    "\n",
    "3. Initialize:\n",
    "    - result = empty list\n",
    "    - count = 1\n",
    "\n",
    "4. Loop from i = 1 to end of string:\n",
    "    - If current char == previous char:\n",
    "        - count += 1\n",
    "    - Else:\n",
    "        - Add previous char and count to result\n",
    "        - Reset count = 1\n",
    "\n",
    "5. After loop ends:\n",
    "    - Add last char and count to result\n",
    "\n",
    "6. Join result list into string\n",
    "\n",
    "7. If compressed string is shorter than original:\n",
    "    - return compressed\n",
    "   Else:\n",
    "    - return original\n",
    "'''"
   ]
  },
  {
   "cell_type": "code",
   "execution_count": 70,
   "id": "0463666b",
   "metadata": {},
   "outputs": [
    {
     "name": "stdout",
     "output_type": "stream",
     "text": [
      "a2b1c5a3\n"
     ]
    }
   ],
   "source": [
    "def shorthand(word):\n",
    "    if not word:\n",
    "        return None\n",
    "    result = []\n",
    "    count = 1\n",
    "    for i in range(1,len(word)):\n",
    "        if word[i] == word[i-1]: \n",
    "            count+=1\n",
    "        else:\n",
    "            result.append(word[i-1]+str(count))\n",
    "            count = 1\n",
    "    result.append(word[-1]+str(count))\n",
    "    compressed = ''.join(result)\n",
    "\n",
    "    if len(compressed) >= len(word):\n",
    "        return word\n",
    "    else: \n",
    "        return compressed\n",
    "\n",
    "print(shorthand(\"aabcccccaaa\"))\n"
   ]
  },
  {
   "cell_type": "markdown",
   "id": "0c8cbe37",
   "metadata": {},
   "source": [
    "#### Question 5\n",
    "\n",
    "Write a function that:\n",
    "* Takes a string input\n",
    "* Returns the word that appears the most times (ignore case)\n",
    "* If there’s a tie, return any one of the most frequent words\n",
    "\n",
    "\n",
    "Example: \n",
    "* Input: \"The car is fast. The car is red. The car is amazing.\"\n",
    "* Output: \"the\"  # (appears 3 times)"
   ]
  },
  {
   "cell_type": "code",
   "execution_count": 71,
   "id": "453c1cf1",
   "metadata": {},
   "outputs": [
    {
     "data": {
      "text/plain": [
       "\"\\n1. If the input string is empty, return None\\n\\n2. Convert the entire string to lowercase to ignore case\\n\\n3. Remove punctuation if needed (optional, based on how clean input is)\\n\\n4. Split the string into a list of words using .split()\\n\\n5. Initialize a defaultdict(int) called 'counts' to store word frequencies\\n\\n6. For each word in the list:\\n      counts[word] += 1\\n\\n7. Find the max value in counts.values() → this is the highest frequency\\n\\n8. Loop through counts.items():\\n      If the word's frequency == max frequency:\\n          return that word  # return the first match (any is fine)\\n\\n9. If no words found, return None\\n\""
      ]
     },
     "execution_count": 71,
     "metadata": {},
     "output_type": "execute_result"
    }
   ],
   "source": [
    "# Return the word that appears the most number of times. Ignore case.\n",
    "# If there's a tie, return any one of the most frequent words.\n",
    "\n",
    "'''\n",
    "1. If the input string is empty, return None\n",
    "\n",
    "2. Convert the entire string to lowercase to ignore case\n",
    "\n",
    "3. Remove punctuation if needed (optional, based on how clean input is)\n",
    "\n",
    "4. Split the string into a list of words using .split()\n",
    "\n",
    "5. Initialize a defaultdict(int) called 'counts' to store word frequencies\n",
    "\n",
    "6. For each word in the list:\n",
    "      counts[word] += 1\n",
    "\n",
    "7. Find the max value in counts.values() → this is the highest frequency\n",
    "\n",
    "8. Loop through counts.items():\n",
    "      If the word's frequency == max frequency:\n",
    "          return that word  # return the first match (any is fine)\n",
    "\n",
    "9. If no words found, return None\n",
    "'''"
   ]
  },
  {
   "cell_type": "code",
   "execution_count": 72,
   "id": "60488d84",
   "metadata": {},
   "outputs": [
    {
     "name": "stdout",
     "output_type": "stream",
     "text": [
      "the\n"
     ]
    }
   ],
   "source": [
    "from collections import defaultdict\n",
    "def word_frequescy(input_string):\n",
    "    if not input_string: \n",
    "        return None\n",
    "    input_string = input_string.replace(\".\", \"\").replace(\",\",\"\").replace(\"!\",\"\")\n",
    "    input_string = input_string.lower().split()\n",
    "    \n",
    "    frequency = defaultdict(int) # dict that adds an int value to every new key\n",
    "\n",
    "    for word in input_string: \n",
    "        frequency[word] += 1\n",
    "    for key,value in frequency.items(): \n",
    "        if value == max(frequency.values()):\n",
    "            return key\n",
    "        \n",
    "\n",
    "print(word_frequescy(\"The car is fast. The car is red. The car is amazing.\"))\n"
   ]
  },
  {
   "cell_type": "markdown",
   "id": "2f265986",
   "metadata": {},
   "source": [
    "#### Question 6\n",
    "You’re given a list of transactions. Each transaction is a tuple with:\n",
    "(category, amount)\n",
    "\n",
    "Write a Python function to:\n",
    "\n",
    "* Calculate the average amount spent per category\n",
    "* Return the result as a dictionary where keys are categories and values are the average\n",
    "\n",
    "input: \n",
    "\n",
    "transactions = [\n",
    "    (\"groceries\", 30),\n",
    "    (\"entertainment\", 20),\n",
    "    (\"groceries\", 50),\n",
    "    (\"utilities\", 100),\n",
    "    (\"entertainment\", 40),\n",
    "    (\"groceries\", 20)\n",
    "]\n",
    "\n",
    "\n",
    "output: \n",
    "\n",
    "{\n",
    "  \"groceries\": 33.33,\n",
    "  \"entertainment\": 30.0,\n",
    "  \"utilities\": 100.0\n",
    "}"
   ]
  },
  {
   "cell_type": "code",
   "execution_count": 73,
   "id": "36226bc2",
   "metadata": {},
   "outputs": [],
   "source": [
    "# Input is a list of tupples with 2 eliments in each\n",
    "# Output should be a dictionary where key is the category from each tupple, and value is the avg from the values listed per category\n",
    "\n",
    "# Pseudocode: \n",
    "# Define a function avg_amounts() --> with one argument\n",
    "# if the input is empty, or if its an empty list then return none\n",
    "# Initilize: \n",
    "    # dict --> defaultdict(list) --> adds a new list in values for each new key\n",
    "# iterating through the list: \n",
    "    # for each value in the list i \n",
    "        # assign the key of the dict to the first value of the tuppe \n",
    "        # add the second value of the tupple to the list in the dicts values\n",
    "    # the resulting dict would be all the catogaries as keys, and list of amounts as values\n",
    "    # iterate through the dict again, and find the avg of these list add it to a new result dict \n",
    "    # Return the result dict\n"
   ]
  },
  {
   "cell_type": "code",
   "execution_count": 74,
   "id": "41047e12",
   "metadata": {},
   "outputs": [
    {
     "name": "stdout",
     "output_type": "stream",
     "text": [
      "defaultdict(<class 'list'>, {'groceries': 33.33, 'entertainment': 30.0, 'utilities': 100.0})\n"
     ]
    }
   ],
   "source": [
    "from collections import defaultdict\n",
    "\n",
    "def avg_amounts(transactions):\n",
    "    if not transactions or transactions == []:\n",
    "        return None\n",
    "    dict = defaultdict(list)\n",
    "\n",
    "    for instance in transactions:\n",
    "        dict[instance[0]].append(instance[1])\n",
    "\n",
    "    for key, values in dict.items(): \n",
    "        dict[key] = round(sum(values)/len(values),2)\n",
    "    return dict\n",
    "\n",
    "print(avg_amounts([\n",
    "    (\"groceries\", 30),\n",
    "    (\"entertainment\", 20),\n",
    "    (\"groceries\", 50),\n",
    "    (\"utilities\", 100),\n",
    "    (\"entertainment\", 40),\n",
    "    (\"groceries\", 20)\n",
    "]))"
   ]
  },
  {
   "cell_type": "markdown",
   "id": "c7d7b033",
   "metadata": {},
   "source": [
    "#### Question 7\n",
    "You’re given a list of tuples, where each tuple represents a product and its price:\n",
    "\n",
    "products = [\n",
    "    (\"laptop\", 1200),\n",
    "    (\"phone\", 800),\n",
    "    (\"monitor\", 300),\n",
    "    (\"keyboard\", 100)\n",
    "]\n",
    "\n",
    "\n",
    "* Write a function that returns the list sorted by price (the second element) in ascending order.\n",
    "* Bonus: Let the function accept a flag to sort descending too."
   ]
  },
  {
   "cell_type": "code",
   "execution_count": null,
   "id": "854f4852",
   "metadata": {},
   "outputs": [],
   "source": [
    "# Retun a list with the second items in each of the tupples sorted in ascending order\n",
    "# 2 --> Pass a flag in the argument of the function to change the order\n",
    "\n",
    "'''\n",
    "Function sorted_prices(products, flag):\n",
    "    If products is empty:\n",
    "        Return None\n",
    "\n",
    "    # Sort the list of tuples by price (second element of each tuple)\n",
    "    # If flag is True → sort ascending (lowest to highest)\n",
    "    # If flag is False → sort descending (highest to lowest)\n",
    "\n",
    "    Return sorted list using:\n",
    "        - key = second element of tuple\n",
    "        - reverse = not flag\n",
    "'''"
   ]
  },
  {
   "cell_type": "code",
   "execution_count": null,
   "id": "315b7325",
   "metadata": {},
   "outputs": [
    {
     "name": "stdout",
     "output_type": "stream",
     "text": [
      "[('laptop', 1200), ('phone', 800), ('monitor', 300), ('keyboard', 100)]\n"
     ]
    }
   ],
   "source": [
    "def sorted_prices(products:list , flag:bool) -> list:\n",
    "    if not products:\n",
    "        return None\n",
    "    result = sorted(products ,key = lambda product: product[1] ,reverse = flag)\n",
    "    return result\n",
    "\n",
    "print(sorted_prices([\n",
    "    (\"laptop\", 1200),\n",
    "    (\"phone\", 800),\n",
    "    (\"monitor\", 300),\n",
    "    (\"keyboard\", 100)\n",
    "], True))"
   ]
  },
  {
   "cell_type": "markdown",
   "id": "6af0329c",
   "metadata": {},
   "source": [
    "#### Question 8\n",
    "You’re given a list of items.\n",
    "Write a function that removes all duplicate elements, but preserves the original order of the list.\n",
    "\n",
    "Input: [\"apple\", \"banana\", \"apple\", \"orange\", \"banana\", \"grape\"]\n",
    "\n",
    "Output: [\"apple\", \"banana\", \"orange\", \"grape\"]"
   ]
  },
  {
   "cell_type": "code",
   "execution_count": null,
   "id": "a75ae365",
   "metadata": {},
   "outputs": [],
   "source": [
    "# Psuedocode: \n",
    "# if the list is empty return None\n",
    "# as set operation doesnt retain the order of the list\n",
    "# initilize an empty list\n",
    "# for each eliment in the list check if it exists in the result list\n",
    "# if it doesnt exist add it\n",
    "# return the result list\n"
   ]
  },
  {
   "cell_type": "code",
   "execution_count": 88,
   "id": "e8cbeb45",
   "metadata": {},
   "outputs": [
    {
     "name": "stdout",
     "output_type": "stream",
     "text": [
      "['apple', 'banana', 'orange', 'grape']\n"
     ]
    }
   ],
   "source": [
    "def unique_val(input_list):\n",
    "    if not input_list: \n",
    "        return None\n",
    "    result = []\n",
    "    for i in input_list: \n",
    "        if i not in result: \n",
    "            result.append(i)\n",
    "    return result\n",
    "\n",
    "print(unique_val([\"apple\", \"banana\", \"apple\", \"orange\", \"banana\", \"grape\"]))"
   ]
  },
  {
   "cell_type": "markdown",
   "id": "bb39d865",
   "metadata": {},
   "source": [
    "#### Question 9\n",
    "Write a function that:\n",
    "* Takes a string as input\n",
    "* Returns the character that appears the most number of times\n",
    "* Ignores spaces\n",
    "* If there’s a tie, return any one of the most frequent characters"
   ]
  },
  {
   "cell_type": "code",
   "execution_count": null,
   "id": "00d6b553",
   "metadata": {},
   "outputs": [],
   "source": [
    "# Pseudocode: \n",
    "# 1. define a function with one argument for the input string \n",
    "# 2. if the string is empty, return None\n",
    "# 3. initiate --> dict with defaultdict(int) --> it adds int as a value for every new key\n",
    "# 4. replace all the spaces in the string with ''\n",
    "# 5. For every char in str\n",
    "    # string[char] += 1 \n",
    "# 6. Run another loop to see which key matches the max value"
   ]
  },
  {
   "cell_type": "code",
   "execution_count": null,
   "id": "c164729f",
   "metadata": {},
   "outputs": [
    {
     "name": "stdout",
     "output_type": "stream",
     "text": [
      "a\n"
     ]
    }
   ],
   "source": [
    "# Clarifying question, can the frequent character be ' ', ',', '.', or '!'?\n",
    "from collections import defaultdict\n",
    "import re\n",
    "def frequent_char(input_string):\n",
    "    \n",
    "    input_string = re.sub(r'[^a-zA-Z0-9]','',input_string.lower()) # regex sub has 3 arguments what to replace, what to replace with, and the string to work on\n",
    "    \n",
    "    if not input_string: # after cleaning the string might become empty, so guard after cleaning instead\n",
    "        return None\n",
    "    freq_dict = defaultdict(int)\n",
    "    for char in input_string: \n",
    "        freq_dict[char]+= 1\n",
    "    max_value = max(freq_dict.values())\n",
    "    for key, value in freq_dict.items():\n",
    "        if value == max_value:\n",
    "            return key\n",
    "print(frequent_char(\"data analytics at goldman\"))\n",
    "\n",
    "# re.sub(r'[^a-zA-Z0-9]') -> this means r is pass raw string -> ^ is dont include anything apart from -> a-z , A-Z, 0-9 (so dont include anything apart from these)\n",
    "    "
   ]
  },
  {
   "cell_type": "markdown",
   "id": "884f0462",
   "metadata": {},
   "source": [
    "#### Question 10: \n",
    "Write a function that:\n",
    "* Takes a string of text\n",
    "* Returns a dictionary where:\n",
    "* Each key is a word length (integer)\n",
    "* Each value is the number of words with that length\n",
    "\n",
    "*Input: \"Goldman Sachs is a global financial firm\"*\n",
    "\n",
    "*Output: {7: 2, 5: 2, 2: 1, 1: 1, 8: 1}*"
   ]
  },
  {
   "cell_type": "code",
   "execution_count": null,
   "id": "5dadcc66",
   "metadata": {},
   "outputs": [],
   "source": [
    "# Pseudocode: \n",
    "# define a function with one string input\n",
    "# If the string is Null return None\n",
    "# split the string ignoring all the characters\n",
    "# initilize a dict where every a new key gets an int value\n",
    "# for each word in the string :\n",
    "# key = length of the word\n",
    "# Value gets counted everytime the word occours\n",
    "# return the dict"
   ]
  },
  {
   "cell_type": "code",
   "execution_count": null,
   "id": "9df093c7",
   "metadata": {},
   "outputs": [
    {
     "name": "stdout",
     "output_type": "stream",
     "text": [
      "defaultdict(<class 'int'>, {7: 1, 5: 1, 2: 1, 1: 1, 6: 1, 9: 1, 4: 1})\n"
     ]
    }
   ],
   "source": [
    "from collections import defaultdict\n",
    "import re\n",
    "\n",
    "def len_freq(input_string):\n",
    "    if not input_string:\n",
    "        return None\n",
    "    input_string = re.sub(r'[^a-zA-Z0-9 ]','',input_string).split()\n",
    "    dict_freq = defaultdict(int)\n",
    "    for word in input_string:\n",
    "        dict_freq[len(word)]+=1\n",
    "    return dict_freq\n",
    "print(len_freq(\"Goldman Sachs is a global financial firm\"))"
   ]
  },
  {
   "cell_type": "markdown",
   "id": "e54e1286",
   "metadata": {},
   "source": [
    "#### Question 11\n",
    "You’re given a list of tuples with product names and prices.\n",
    "\n",
    "products = [(\"laptop\", 1200), (\"phone\", 800), (\"monitor\", 300), (\"keyboard\", 100)]"
   ]
  },
  {
   "cell_type": "code",
   "execution_count": null,
   "id": "54a70099",
   "metadata": {},
   "outputs": [],
   "source": [
    "# Pseudocode: \n",
    "# define a function with argument as list\n",
    "# check if the list is empty, if it is, return None\n",
    "# Sort the list by the second eliment within each tupple in decending order\n"
   ]
  },
  {
   "cell_type": "code",
   "execution_count": 99,
   "id": "5228d59a",
   "metadata": {},
   "outputs": [
    {
     "data": {
      "text/plain": [
       "[('laptop', 1200), ('phone', 800), ('monitor', 300), ('keyboard', 100)]"
      ]
     },
     "execution_count": 99,
     "metadata": {},
     "output_type": "execute_result"
    }
   ],
   "source": [
    "def sorted_prices(products):\n",
    "    if not products:\n",
    "        return None\n",
    "    return sorted(products, key = lambda x: x[1],reverse = True)\n",
    "sorted_prices([(\"laptop\", 1200), (\"phone\", 800), (\"monitor\", 300), (\"keyboard\", 100)])\n",
    "    "
   ]
  },
  {
   "cell_type": "markdown",
   "id": "cfac7044",
   "metadata": {},
   "source": [
    "#### Question 12\n",
    "You have a list of product tuples like this:\n",
    "\n",
    "products = [\n",
    "    (\"laptop\", 1200),\n",
    "    (\"phone\", 800),\n",
    "    (\"monitor\", 300),\n",
    "    (\"keyboard\", 100)\n",
    "]\n",
    "\n",
    "Write a function that returns a list of strings like:\n",
    "[\"laptop: $1200\", \"phone: $800\", ...]"
   ]
  },
  {
   "cell_type": "code",
   "execution_count": 1,
   "id": "17e8f1bf",
   "metadata": {},
   "outputs": [
    {
     "name": "stdout",
     "output_type": "stream",
     "text": [
      "['laptop: 1200', 'phone: 800', 'monitor: 300', 'keyboard: 100']\n"
     ]
    }
   ],
   "source": [
    "def updated_list(input_list:list) -> list: \n",
    "    if not input_list:\n",
    "        return None\n",
    "    result = []\n",
    "    for name, price in input_list:\n",
    "        string = str(name)+\": \"+str(price)\n",
    "        result.append(string)\n",
    "    return result\n",
    "print(updated_list([\n",
    "    (\"laptop\", 1200),\n",
    "    (\"phone\", 800),\n",
    "    (\"monitor\", 300),\n",
    "    (\"keyboard\", 100)\n",
    "]))\n"
   ]
  }
 ],
 "metadata": {
  "kernelspec": {
   "display_name": "Python 3",
   "language": "python",
   "name": "python3"
  },
  "language_info": {
   "codemirror_mode": {
    "name": "ipython",
    "version": 3
   },
   "file_extension": ".py",
   "mimetype": "text/x-python",
   "name": "python",
   "nbconvert_exporter": "python",
   "pygments_lexer": "ipython3",
   "version": "3.12.0"
  }
 },
 "nbformat": 4,
 "nbformat_minor": 5
}
