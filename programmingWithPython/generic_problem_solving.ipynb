{
 "cells": [
  {
   "cell_type": "markdown",
   "id": "ee6fbb6a",
   "metadata": {},
   "source": [
    "# Jul 18th 2025\n",
    "1.\tVariables & Data Types\n",
    "\t* Strings, Integers, Floats, Booleans\n",
    "\t* How Python stores and handles these\n",
    "2.\tLists\n",
    "\t* Creation, indexing, slicing\n",
    "\t* List operations: append, remove, pop, sort\n",
    "\t* List comprehensions"
   ]
  },
  {
   "cell_type": "markdown",
   "id": "35fb2f6d",
   "metadata": {},
   "source": [
    "Write a function that takes a list of strings and returns a new list with duplicates removed, preserving the original order."
   ]
  },
  {
   "cell_type": "code",
   "execution_count": null,
   "id": "94f85af9",
   "metadata": {},
   "outputs": [
    {
     "name": "stdout",
     "output_type": "stream",
     "text": [
      "['apple', 'banana', 'orange', 'grape']\n"
     ]
    }
   ],
   "source": [
    "def remove_duplicates(input_list: list) -> list: \n",
    "    if not input_list:\n",
    "        return None\n",
    "    seen = set()\n",
    "    output_list = []\n",
    "    for item in input_list: # O(n)\n",
    "        if item not in seen: # using set look up for O(1) complexity\n",
    "            seen.add(item)\n",
    "            output_list.append(item)\n",
    "    return output_list\n",
    "\n",
    "# Example:\n",
    "print(remove_duplicates([\"apple\", \"banana\", \"apple\", \"orange\", \"banana\", \"grape\"]))\n",
    "# → [\"apple\", \"banana\", \"orange\", \"grape\"]\n",
    "\n",
    "# time colplexity - O(n)"
   ]
  },
  {
   "cell_type": "markdown",
   "id": "62ef42d4",
   "metadata": {},
   "source": [
    "Write a function that returns the word that appears most frequently in a sentence.\n",
    "\t\n",
    "•\tIgnore case (The and the are the same)\n",
    "\t\n",
    "•\tIgnore punctuation like ., ,, !\n",
    "\t\n",
    "•\tIf there’s a tie, return any of the most frequent words.\n",
    "    "
   ]
  },
  {
   "cell_type": "code",
   "execution_count": null,
   "id": "41bc5ccd",
   "metadata": {},
   "outputs": [
    {
     "name": "stdout",
     "output_type": "stream",
     "text": [
      "the\n"
     ]
    }
   ],
   "source": [
    "import re\n",
    "from collections import defaultdict\n",
    "def frequest_word(sentence:str)->str:\n",
    "    if not sentence:\n",
    "        return None\n",
    "    input_list = re.sub(r'[^ a-zA-Z0-9]', '', sentence.lower()).split() # regex sub has 3 arguments, what to replace , what to replace with, and which string to work on\n",
    "    counter_dict = defaultdict(int)\n",
    "    for word in input_list: \n",
    "        counter_dict[word]+= 1\n",
    "    max_value = max(counter_dict.values())\n",
    "    for key, value in counter_dict.items():\n",
    "        if value == max_value:\n",
    "            return key\n",
    "\n",
    "print(frequest_word(\"The car is fast. The car is red. The car is amazing.\"))\n",
    "# Time: O(n), Space: O(n)"
   ]
  }
 ],
 "metadata": {
  "kernelspec": {
   "display_name": "Python 3",
   "language": "python",
   "name": "python3"
  },
  "language_info": {
   "codemirror_mode": {
    "name": "ipython",
    "version": 3
   },
   "file_extension": ".py",
   "mimetype": "text/x-python",
   "name": "python",
   "nbconvert_exporter": "python",
   "pygments_lexer": "ipython3",
   "version": "3.12.0"
  }
 },
 "nbformat": 4,
 "nbformat_minor": 5
}
