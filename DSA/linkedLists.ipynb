{
 "cells": [
  {
   "cell_type": "code",
   "execution_count": null,
   "id": "ab898afe",
   "metadata": {},
   "outputs": [
    {
     "name": "stdout",
     "output_type": "stream",
     "text": [
      "Hi\n"
     ]
    }
   ],
   "source": [
    "# What is a linked list under the hood? WHat does it look like? This is not an exact representation, \n",
    "# but this dict rep shows what linked list looks like and why it acts the way it acts\n",
    "# Here is the linked list I am creating: head-->7-->2-->'Hi'-->none\n",
    "head = {\"value\": 7,\n",
    "        \"next\": {\n",
    "            \"value\": 2,\n",
    "            \"next\": {\n",
    "                \"value\": 'Hi',\n",
    "                \"next\": None\n",
    "            }\n",
    "        }\n",
    "        }\n",
    "#Printing Hi\n",
    "print(head['next']['next']['value'])\n"
   ]
  },
  {
   "cell_type": "code",
   "execution_count": null,
   "id": "a8af77e4",
   "metadata": {},
   "outputs": [
    {
     "data": {
      "text/plain": [
       "'\\nclass LinkedList:\\n    def __init__(self, value): # Self shows that this is a method inside of a class, instead of a function -- Value is the parameter\\n        #This method is a constructor, this is going to create a node, and initilize a linked list. \\n        # Node is one memory id with one value in it\\n\\n    def append(self, value):\\n        # Append method, is going to create a node, and append the node at the end of the linked list\\n\\n    def prepend(self, value):\\n        # Prepend is going to create a node and its going to add that node to the beginning\\n\\n    def insert(self, index, value):\\n        # Create a node, and its going to insert that node to whatever index value we provide\\n\\n# As all of them create a new node, we dont want to do that multiple times, so lets create a class, that creates a new node. Above\\n\\n'"
      ]
     },
     "execution_count": 3,
     "metadata": {},
     "output_type": "execute_result"
    }
   ],
   "source": [
    "\"\"\"\n",
    "class LinkedList:\n",
    "    def __init__(self, value): # Self shows that this is a method inside of a class, instead of a function -- Value is the parameter\n",
    "        #This method is a constructor, this is going to create a node, and initilize a linked list. \n",
    "        # Node is one memory id with one value in it\n",
    "\n",
    "    def append(self, value):\n",
    "        # Append method, is going to create a node, and append the node at the end of the linked list\n",
    "         \n",
    "    def prepend(self, value):\n",
    "        # Prepend is going to create a node and its going to add that node to the beginning\n",
    "    \n",
    "    def insert(self, index, value):\n",
    "        # Create a node, and its going to insert that node to whatever index value we provide\n",
    "\n",
    "# As all of them create a new node, we dont want to do that multiple times, so lets create a class, that creates a new node. Above\n",
    "\n",
    "\"\"\"\n",
    "\"\"\"\n",
    "\n",
    "class Node: # If any of the above methods need to create a node, they are going to class the class node. Only thing this is going to have is the constructor\n",
    "    # from the above example of linked lists being disctionaries, we have seen that a node is essentially \n",
    "    # { \"value\": 7, \"next\": None } so the construstor for the node woul dbe\n",
    "    self.value = value\n",
    "    self.node = None\n",
    "\n",
    "\n",
    "\"\"\""
   ]
  },
  {
   "cell_type": "markdown",
   "id": "c4b996c2",
   "metadata": {},
   "source": [
    "### Building a Linked List Construstor\n",
    "What is self?\n",
    "\t•\tself refers to the instance of the class (the object).\n",
    "\t•\tWhen you write self.head = ..., you’re attaching head as an attribute to the object (LinkedList in this case).\n",
    "\t•\tThis means every object of the class will have its own head, tail, and length.\n",
    "\n",
    "\n",
    "What is new_node?\n",
    "\t•\tnew_node = Node(value) creates a local variable inside the __init__ method.\n",
    "\t•\tThis local variable is used temporarily just to create the node and assign it to the object’s attributes.\n",
    "\t•\tYou don’t need to store new_node as an attribute because you already store its reference in self.head and self.tail.\n",
    "\n",
    "🔍 Why Not self.new_node?\n",
    "\n",
    "✅ new_node is just a temporary helper.\n",
    "✅ You’re not planning to use it later; you’re just assigning it to self.head and self.tail.\n",
    "✅ self.head and self.tail are attributes of the object—this is how you access them outside the method."
   ]
  },
  {
   "cell_type": "code",
   "execution_count": 16,
   "id": "f2b1b5bd",
   "metadata": {},
   "outputs": [
    {
     "name": "stdout",
     "output_type": "stream",
     "text": [
      "4\n"
     ]
    }
   ],
   "source": [
    "class Node:\n",
    "    def __init__(self,value):\n",
    "        self.value = value\n",
    "        self.next = None\n",
    "\n",
    "class LinkedList:\n",
    "    def __init__(self,value):\n",
    "        new_node = Node(value)\n",
    "        self.head = new_node\n",
    "        self.tail = new_node\n",
    "        self.length = 1\n",
    "    def print_list(self): # Set a temporary pointer (temp) to the head of the list to start traversal\n",
    "        temp = self.head # Iterate through the list until the end (temp is None)\n",
    "        while temp is not None: # Print the value of the current node (temp)\n",
    "            print(temp.value) # Move the temporary pointer (temp) to the next node in the list\n",
    "            temp = temp.next\n",
    "\n",
    "\n",
    "\n",
    "\n",
    "\n",
    "my_linked_list = LinkedList(4)\n",
    "my_linked_list.print_list()\n"
   ]
  }
 ],
 "metadata": {
  "kernelspec": {
   "display_name": "Python 3",
   "language": "python",
   "name": "python3"
  },
  "language_info": {
   "codemirror_mode": {
    "name": "ipython",
    "version": 3
   },
   "file_extension": ".py",
   "mimetype": "text/x-python",
   "name": "python",
   "nbconvert_exporter": "python",
   "pygments_lexer": "ipython3",
   "version": "3.12.0"
  }
 },
 "nbformat": 4,
 "nbformat_minor": 5
}
